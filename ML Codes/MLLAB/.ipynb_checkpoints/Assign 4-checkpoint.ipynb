{
 "cells": [
  {
   "cell_type": "markdown",
   "id": "f7ce3c0e",
   "metadata": {},
   "source": [
    "# 4. Assignment on Classification technique\n",
    "\n",
    "## Problem Statement\n",
    "```\n",
    "Download Data Set Available on kaggle (The last column of the dataset needs to be changed to 0 or 1)Data\n",
    "Set : https://www.kaggle.com/mohansacharya/graduate-admissions\n",
    "The counselor of the firm is supposed check whether the student will get an admission or not\n",
    "based on his/her GRE score and Academic Score. So to help the counselor to take appropriate\n",
    "decisions build a machine learning model classifier using SVM to predict whether a\n",
    "student will get admission or not.\n",
    "\n",
    "A.Apply Data pre-processing (Label Encoding, Data Transformation....) techniques if\n",
    "necessary.\n",
    "B.Perform data-preparation (Train-Test Split)\n",
    "C. Apply Machine Learning Algorithm\n",
    "D. Evaluate Model.\n",
    "\n",
    "```\n",
    "\n",
    "\n",
    "### Importing the libraries that are required"
   ]
  },
  {
   "cell_type": "code",
   "execution_count": 27,
   "id": "84904eb1",
   "metadata": {},
   "outputs": [],
   "source": [
    "import pandas as pd\n",
    "import numpy as np\n",
    "import matplotlib.pyplot as plt\n",
    "import seaborn as sns"
   ]
  },
  {
   "cell_type": "markdown",
   "id": "12efae9c",
   "metadata": {},
   "source": [
    "### Reading the dataset into a variable"
   ]
  },
  {
   "cell_type": "code",
   "execution_count": 28,
   "id": "010b3f6a",
   "metadata": {},
   "outputs": [],
   "source": [
    "adiii = pd.read_csv(\"Admission_Predict.csv\")"
   ]
  },
  {
   "cell_type": "markdown",
   "id": "f974c629",
   "metadata": {},
   "source": [
    "# "
   ]
  },
  {
   "cell_type": "markdown",
   "id": "c382b0e8",
   "metadata": {},
   "source": [
    "```\n",
    "\n",
    "\n",
    "\n",
    "\n",
    "\n",
    "\n",
    "\n",
    "\n",
    "\n",
    "```"
   ]
  },
  {
   "cell_type": "markdown",
   "id": "8f89de9f",
   "metadata": {},
   "source": [
    "### Displaying the dataset first five rows"
   ]
  },
  {
   "cell_type": "code",
   "execution_count": 29,
   "id": "a61814f7",
   "metadata": {},
   "outputs": [
    {
     "data": {
      "text/html": [
       "<div>\n",
       "<style scoped>\n",
       "    .dataframe tbody tr th:only-of-type {\n",
       "        vertical-align: middle;\n",
       "    }\n",
       "\n",
       "    .dataframe tbody tr th {\n",
       "        vertical-align: top;\n",
       "    }\n",
       "\n",
       "    .dataframe thead th {\n",
       "        text-align: right;\n",
       "    }\n",
       "</style>\n",
       "<table border=\"1\" class=\"dataframe\">\n",
       "  <thead>\n",
       "    <tr style=\"text-align: right;\">\n",
       "      <th></th>\n",
       "      <th>Serial No.</th>\n",
       "      <th>GRE Score</th>\n",
       "      <th>TOEFL Score</th>\n",
       "      <th>University Rating</th>\n",
       "      <th>SOP</th>\n",
       "      <th>LOR</th>\n",
       "      <th>CGPA</th>\n",
       "      <th>Research</th>\n",
       "      <th>Chance of Admit</th>\n",
       "    </tr>\n",
       "  </thead>\n",
       "  <tbody>\n",
       "    <tr>\n",
       "      <th>0</th>\n",
       "      <td>1</td>\n",
       "      <td>337</td>\n",
       "      <td>118</td>\n",
       "      <td>4</td>\n",
       "      <td>4.5</td>\n",
       "      <td>4.5</td>\n",
       "      <td>9.65</td>\n",
       "      <td>1</td>\n",
       "      <td>0.92</td>\n",
       "    </tr>\n",
       "    <tr>\n",
       "      <th>1</th>\n",
       "      <td>2</td>\n",
       "      <td>324</td>\n",
       "      <td>107</td>\n",
       "      <td>4</td>\n",
       "      <td>4.0</td>\n",
       "      <td>4.5</td>\n",
       "      <td>8.87</td>\n",
       "      <td>1</td>\n",
       "      <td>0.76</td>\n",
       "    </tr>\n",
       "    <tr>\n",
       "      <th>2</th>\n",
       "      <td>3</td>\n",
       "      <td>316</td>\n",
       "      <td>104</td>\n",
       "      <td>3</td>\n",
       "      <td>3.0</td>\n",
       "      <td>3.5</td>\n",
       "      <td>8.00</td>\n",
       "      <td>1</td>\n",
       "      <td>0.72</td>\n",
       "    </tr>\n",
       "    <tr>\n",
       "      <th>3</th>\n",
       "      <td>4</td>\n",
       "      <td>322</td>\n",
       "      <td>110</td>\n",
       "      <td>3</td>\n",
       "      <td>3.5</td>\n",
       "      <td>2.5</td>\n",
       "      <td>8.67</td>\n",
       "      <td>1</td>\n",
       "      <td>0.80</td>\n",
       "    </tr>\n",
       "    <tr>\n",
       "      <th>4</th>\n",
       "      <td>5</td>\n",
       "      <td>314</td>\n",
       "      <td>103</td>\n",
       "      <td>2</td>\n",
       "      <td>2.0</td>\n",
       "      <td>3.0</td>\n",
       "      <td>8.21</td>\n",
       "      <td>0</td>\n",
       "      <td>0.65</td>\n",
       "    </tr>\n",
       "  </tbody>\n",
       "</table>\n",
       "</div>"
      ],
      "text/plain": [
       "   Serial No.  GRE Score  TOEFL Score  University Rating  SOP  LOR  CGPA  \\\n",
       "0           1        337          118                  4  4.5  4.5  9.65   \n",
       "1           2        324          107                  4  4.0  4.5  8.87   \n",
       "2           3        316          104                  3  3.0  3.5  8.00   \n",
       "3           4        322          110                  3  3.5  2.5  8.67   \n",
       "4           5        314          103                  2  2.0  3.0  8.21   \n",
       "\n",
       "   Research  Chance of Admit  \n",
       "0         1             0.92  \n",
       "1         1             0.76  \n",
       "2         1             0.72  \n",
       "3         1             0.80  \n",
       "4         0             0.65  "
      ]
     },
     "execution_count": 29,
     "metadata": {},
     "output_type": "execute_result"
    }
   ],
   "source": [
    "adiii.head()"
   ]
  },
  {
   "cell_type": "markdown",
   "id": "4fb38414",
   "metadata": {},
   "source": [
    "### Rounding the Chance of Admit column values"
   ]
  },
  {
   "cell_type": "code",
   "execution_count": 30,
   "id": "0ae516d9",
   "metadata": {},
   "outputs": [],
   "source": [
    "adiii.loc[adiii[\"Chance of Admit\"]>=0.5,\"Chance of Admit\" ] = 1\n",
    "adiii.loc[adiii[\"Chance of Admit\"]<0.5,\"Chance of Admit\" ] = 0"
   ]
  },
  {
   "cell_type": "code",
   "execution_count": 31,
   "id": "264897ea",
   "metadata": {},
   "outputs": [
    {
     "data": {
      "text/html": [
       "<div>\n",
       "<style scoped>\n",
       "    .dataframe tbody tr th:only-of-type {\n",
       "        vertical-align: middle;\n",
       "    }\n",
       "\n",
       "    .dataframe tbody tr th {\n",
       "        vertical-align: top;\n",
       "    }\n",
       "\n",
       "    .dataframe thead th {\n",
       "        text-align: right;\n",
       "    }\n",
       "</style>\n",
       "<table border=\"1\" class=\"dataframe\">\n",
       "  <thead>\n",
       "    <tr style=\"text-align: right;\">\n",
       "      <th></th>\n",
       "      <th>Serial No.</th>\n",
       "      <th>GRE Score</th>\n",
       "      <th>TOEFL Score</th>\n",
       "      <th>University Rating</th>\n",
       "      <th>SOP</th>\n",
       "      <th>LOR</th>\n",
       "      <th>CGPA</th>\n",
       "      <th>Research</th>\n",
       "      <th>Chance of Admit</th>\n",
       "    </tr>\n",
       "  </thead>\n",
       "  <tbody>\n",
       "    <tr>\n",
       "      <th>0</th>\n",
       "      <td>1</td>\n",
       "      <td>337</td>\n",
       "      <td>118</td>\n",
       "      <td>4</td>\n",
       "      <td>4.5</td>\n",
       "      <td>4.5</td>\n",
       "      <td>9.65</td>\n",
       "      <td>1</td>\n",
       "      <td>1.0</td>\n",
       "    </tr>\n",
       "    <tr>\n",
       "      <th>1</th>\n",
       "      <td>2</td>\n",
       "      <td>324</td>\n",
       "      <td>107</td>\n",
       "      <td>4</td>\n",
       "      <td>4.0</td>\n",
       "      <td>4.5</td>\n",
       "      <td>8.87</td>\n",
       "      <td>1</td>\n",
       "      <td>1.0</td>\n",
       "    </tr>\n",
       "    <tr>\n",
       "      <th>2</th>\n",
       "      <td>3</td>\n",
       "      <td>316</td>\n",
       "      <td>104</td>\n",
       "      <td>3</td>\n",
       "      <td>3.0</td>\n",
       "      <td>3.5</td>\n",
       "      <td>8.00</td>\n",
       "      <td>1</td>\n",
       "      <td>1.0</td>\n",
       "    </tr>\n",
       "    <tr>\n",
       "      <th>3</th>\n",
       "      <td>4</td>\n",
       "      <td>322</td>\n",
       "      <td>110</td>\n",
       "      <td>3</td>\n",
       "      <td>3.5</td>\n",
       "      <td>2.5</td>\n",
       "      <td>8.67</td>\n",
       "      <td>1</td>\n",
       "      <td>1.0</td>\n",
       "    </tr>\n",
       "    <tr>\n",
       "      <th>4</th>\n",
       "      <td>5</td>\n",
       "      <td>314</td>\n",
       "      <td>103</td>\n",
       "      <td>2</td>\n",
       "      <td>2.0</td>\n",
       "      <td>3.0</td>\n",
       "      <td>8.21</td>\n",
       "      <td>0</td>\n",
       "      <td>1.0</td>\n",
       "    </tr>\n",
       "  </tbody>\n",
       "</table>\n",
       "</div>"
      ],
      "text/plain": [
       "   Serial No.  GRE Score  TOEFL Score  University Rating  SOP  LOR  CGPA  \\\n",
       "0           1        337          118                  4  4.5  4.5  9.65   \n",
       "1           2        324          107                  4  4.0  4.5  8.87   \n",
       "2           3        316          104                  3  3.0  3.5  8.00   \n",
       "3           4        322          110                  3  3.5  2.5  8.67   \n",
       "4           5        314          103                  2  2.0  3.0  8.21   \n",
       "\n",
       "   Research  Chance of Admit  \n",
       "0         1              1.0  \n",
       "1         1              1.0  \n",
       "2         1              1.0  \n",
       "3         1              1.0  \n",
       "4         0              1.0  "
      ]
     },
     "execution_count": 31,
     "metadata": {},
     "output_type": "execute_result"
    }
   ],
   "source": [
    "adiii.head()"
   ]
  },
  {
   "cell_type": "markdown",
   "id": "676aebe7",
   "metadata": {},
   "source": [
    "### Performing the train test split over the dataset"
   ]
  },
  {
   "cell_type": "code",
   "execution_count": 32,
   "id": "7521beca",
   "metadata": {},
   "outputs": [],
   "source": [
    "from sklearn.model_selection import train_test_split\n",
    "X = adiii.drop([\"Serial No.\",\"Chance of Admit\"],axis=1)\n",
    "Y = adiii[\"Chance of Admit\"]\n",
    "x_train, x_test, y_train, y_test = train_test_split(X, Y, test_size=0.15)"
   ]
  },
  {
   "cell_type": "markdown",
   "id": "3e3ce25b",
   "metadata": {},
   "source": [
    "### Print the size of spilted dataset values"
   ]
  },
  {
   "cell_type": "code",
   "execution_count": 33,
   "id": "6e973737",
   "metadata": {},
   "outputs": [
    {
     "name": "stdout",
     "output_type": "stream",
     "text": [
      "x_train size =  2975\n",
      "x_test size =  525\n",
      "y_train size =  425\n",
      "y_test size =  75\n"
     ]
    }
   ],
   "source": [
    "print(\"x_train size = \",x_train.size)\n",
    "print(\"x_test size = \",x_test.size)\n",
    "print(\"y_train size = \",y_train.size)\n",
    "print(\"y_test size = \",y_test.size)"
   ]
  },
  {
   "cell_type": "code",
   "execution_count": 34,
   "id": "e1d7727e",
   "metadata": {},
   "outputs": [
    {
     "name": "stdout",
     "output_type": "stream",
     "text": [
      "     GRE Score  TOEFL Score  University Rating  SOP  LOR  CGPA  Research\n",
      "283        321          111                  3  2.5  3.0  8.90         1\n",
      "367        311           98                  1  1.0  2.5  7.46         0\n",
      "420        299          100                  3  2.0  3.0  7.42         0\n",
      "198        311          104                  3  4.5  4.5  8.43         0\n",
      "497        330          120                  5  4.5  5.0  9.56         1\n",
      "..         ...          ...                ...  ...  ...   ...       ...\n",
      "127        319          112                  3  2.5  2.0  8.71         1\n",
      "345        316           98                  1  1.5  2.0  7.43         0\n",
      "450        320          112                  4  3.0  4.5  8.86         1\n",
      "117        290          104                  4  2.0  2.5  7.46         0\n",
      "319        327          113                  4  3.5  3.0  8.69         1\n",
      "\n",
      "[425 rows x 7 columns]\n",
      "     GRE Score  TOEFL Score  University Rating  SOP  LOR  CGPA  Research\n",
      "292        302           99                  2  1.0  2.0  7.97         0\n",
      "152        321          112                  5  5.0  5.0  9.06         1\n",
      "315        308          104                  2  2.5  3.0  8.07         0\n",
      "254        321          114                  4  4.0  5.0  9.12         0\n",
      "249        321          111                  3  3.5  4.0  8.83         1\n",
      "..         ...          ...                ...  ...  ...   ...       ...\n",
      "113        320          110                  2  4.0  3.5  8.56         0\n",
      "199        313          107                  3  4.0  4.5  8.69         0\n",
      "106        329          111                  4  4.5  4.5  9.18         1\n",
      "32         338          118                  4  3.0  4.5  9.40         1\n",
      "28         295           93                  1  2.0  2.0  7.20         0\n",
      "\n",
      "[75 rows x 7 columns]\n",
      "283    1.0\n",
      "367    1.0\n",
      "420    0.0\n",
      "198    1.0\n",
      "497    1.0\n",
      "      ... \n",
      "127    1.0\n",
      "345    0.0\n",
      "450    1.0\n",
      "117    0.0\n",
      "319    1.0\n",
      "Name: Chance of Admit, Length: 425, dtype: float64\n",
      "292    1.0\n",
      "152    1.0\n",
      "315    1.0\n",
      "254    1.0\n",
      "249    1.0\n",
      "      ... \n",
      "113    1.0\n",
      "199    1.0\n",
      "106    1.0\n",
      "32     1.0\n",
      "28     0.0\n",
      "Name: Chance of Admit, Length: 75, dtype: float64\n"
     ]
    }
   ],
   "source": [
    "print(x_train)\n",
    "print(x_test)\n",
    "print(y_train)\n",
    "print(y_test)"
   ]
  },
  {
   "cell_type": "markdown",
   "id": "ca08f25e",
   "metadata": {},
   "source": [
    "### Import the Libraries"
   ]
  },
  {
   "cell_type": "code",
   "execution_count": 35,
   "id": "4aa6eeb3",
   "metadata": {},
   "outputs": [],
   "source": [
    "from sklearn.svm import SVC"
   ]
  },
  {
   "cell_type": "markdown",
   "id": "358c26d6",
   "metadata": {},
   "source": [
    "### Performing for Linear Kernel"
   ]
  },
  {
   "cell_type": "code",
   "execution_count": 36,
   "id": "9be450af",
   "metadata": {},
   "outputs": [],
   "source": [
    "linear_Kernel_Clasifier = SVC(kernel = 'linear')\n",
    "linear_Kernel_Clasifier.fit(x_train,y_train)\n",
    "y_Predict_Linear = linear_Kernel_Clasifier.predict(x_test)"
   ]
  },
  {
   "cell_type": "markdown",
   "id": "0dc5f6c5",
   "metadata": {},
   "source": [
    "### Performing for Polynomial Kernel"
   ]
  },
  {
   "cell_type": "code",
   "execution_count": 37,
   "id": "9435673d",
   "metadata": {},
   "outputs": [],
   "source": [
    "polynomial_Kernel_Clasifier = SVC(kernel = 'poly')\n",
    "polynomial_Kernel_Clasifier.fit(x_train,y_train)\n",
    "y_Predict_Polynomial = polynomial_Kernel_Clasifier.predict(x_test)"
   ]
  },
  {
   "cell_type": "markdown",
   "id": "db1175f2",
   "metadata": {},
   "source": [
    "### Performing for RBF Kernel"
   ]
  },
  {
   "cell_type": "code",
   "execution_count": 38,
   "id": "67edec85",
   "metadata": {},
   "outputs": [],
   "source": [
    "rbf_Kernel_Clasifier = SVC(kernel = 'rbf')\n",
    "rbf_Kernel_Clasifier.fit(x_train,y_train)\n",
    "y_Predict_Rbf = rbf_Kernel_Clasifier.predict(x_test)"
   ]
  },
  {
   "cell_type": "markdown",
   "id": "b0ed2e9c",
   "metadata": {},
   "source": [
    "### Performing for Sigmoid Kernel"
   ]
  },
  {
   "cell_type": "code",
   "execution_count": 39,
   "id": "e0bbed04",
   "metadata": {},
   "outputs": [],
   "source": [
    "sigmoid_Kernel_Clasifier = SVC(kernel = 'sigmoid')\n",
    "sigmoid_Kernel_Clasifier.fit(x_train,y_train)\n",
    "y_Predict_Sigmoid = sigmoid_Kernel_Clasifier.predict(x_test)"
   ]
  },
  {
   "cell_type": "code",
   "execution_count": 40,
   "id": "0750236e",
   "metadata": {},
   "outputs": [
    {
     "data": {
      "text/html": [
       "<div>\n",
       "<style scoped>\n",
       "    .dataframe tbody tr th:only-of-type {\n",
       "        vertical-align: middle;\n",
       "    }\n",
       "\n",
       "    .dataframe tbody tr th {\n",
       "        vertical-align: top;\n",
       "    }\n",
       "\n",
       "    .dataframe thead th {\n",
       "        text-align: right;\n",
       "    }\n",
       "</style>\n",
       "<table border=\"1\" class=\"dataframe\">\n",
       "  <thead>\n",
       "    <tr style=\"text-align: right;\">\n",
       "      <th></th>\n",
       "      <th>Actual</th>\n",
       "      <th>Linear Kernel</th>\n",
       "      <th>Polynomial Kernel</th>\n",
       "      <th>RBF Kernel</th>\n",
       "      <th>Sigmoid Kernel</th>\n",
       "    </tr>\n",
       "  </thead>\n",
       "  <tbody>\n",
       "    <tr>\n",
       "      <th>292</th>\n",
       "      <td>1.0</td>\n",
       "      <td>1.0</td>\n",
       "      <td>1.0</td>\n",
       "      <td>1.0</td>\n",
       "      <td>1.0</td>\n",
       "    </tr>\n",
       "    <tr>\n",
       "      <th>152</th>\n",
       "      <td>1.0</td>\n",
       "      <td>1.0</td>\n",
       "      <td>1.0</td>\n",
       "      <td>1.0</td>\n",
       "      <td>1.0</td>\n",
       "    </tr>\n",
       "    <tr>\n",
       "      <th>315</th>\n",
       "      <td>1.0</td>\n",
       "      <td>1.0</td>\n",
       "      <td>1.0</td>\n",
       "      <td>1.0</td>\n",
       "      <td>1.0</td>\n",
       "    </tr>\n",
       "    <tr>\n",
       "      <th>254</th>\n",
       "      <td>1.0</td>\n",
       "      <td>1.0</td>\n",
       "      <td>1.0</td>\n",
       "      <td>1.0</td>\n",
       "      <td>1.0</td>\n",
       "    </tr>\n",
       "    <tr>\n",
       "      <th>249</th>\n",
       "      <td>1.0</td>\n",
       "      <td>1.0</td>\n",
       "      <td>1.0</td>\n",
       "      <td>1.0</td>\n",
       "      <td>1.0</td>\n",
       "    </tr>\n",
       "    <tr>\n",
       "      <th>224</th>\n",
       "      <td>1.0</td>\n",
       "      <td>1.0</td>\n",
       "      <td>1.0</td>\n",
       "      <td>1.0</td>\n",
       "      <td>1.0</td>\n",
       "    </tr>\n",
       "    <tr>\n",
       "      <th>226</th>\n",
       "      <td>1.0</td>\n",
       "      <td>1.0</td>\n",
       "      <td>1.0</td>\n",
       "      <td>1.0</td>\n",
       "      <td>1.0</td>\n",
       "    </tr>\n",
       "    <tr>\n",
       "      <th>203</th>\n",
       "      <td>1.0</td>\n",
       "      <td>1.0</td>\n",
       "      <td>1.0</td>\n",
       "      <td>1.0</td>\n",
       "      <td>1.0</td>\n",
       "    </tr>\n",
       "    <tr>\n",
       "      <th>432</th>\n",
       "      <td>1.0</td>\n",
       "      <td>1.0</td>\n",
       "      <td>1.0</td>\n",
       "      <td>1.0</td>\n",
       "      <td>1.0</td>\n",
       "    </tr>\n",
       "    <tr>\n",
       "      <th>37</th>\n",
       "      <td>1.0</td>\n",
       "      <td>1.0</td>\n",
       "      <td>1.0</td>\n",
       "      <td>1.0</td>\n",
       "      <td>1.0</td>\n",
       "    </tr>\n",
       "    <tr>\n",
       "      <th>44</th>\n",
       "      <td>1.0</td>\n",
       "      <td>1.0</td>\n",
       "      <td>1.0</td>\n",
       "      <td>1.0</td>\n",
       "      <td>1.0</td>\n",
       "    </tr>\n",
       "    <tr>\n",
       "      <th>465</th>\n",
       "      <td>1.0</td>\n",
       "      <td>1.0</td>\n",
       "      <td>1.0</td>\n",
       "      <td>1.0</td>\n",
       "      <td>1.0</td>\n",
       "    </tr>\n",
       "    <tr>\n",
       "      <th>148</th>\n",
       "      <td>1.0</td>\n",
       "      <td>1.0</td>\n",
       "      <td>1.0</td>\n",
       "      <td>1.0</td>\n",
       "      <td>1.0</td>\n",
       "    </tr>\n",
       "    <tr>\n",
       "      <th>445</th>\n",
       "      <td>1.0</td>\n",
       "      <td>1.0</td>\n",
       "      <td>1.0</td>\n",
       "      <td>1.0</td>\n",
       "      <td>1.0</td>\n",
       "    </tr>\n",
       "    <tr>\n",
       "      <th>54</th>\n",
       "      <td>1.0</td>\n",
       "      <td>1.0</td>\n",
       "      <td>1.0</td>\n",
       "      <td>1.0</td>\n",
       "      <td>1.0</td>\n",
       "    </tr>\n",
       "  </tbody>\n",
       "</table>\n",
       "</div>"
      ],
      "text/plain": [
       "     Actual  Linear Kernel  Polynomial Kernel  RBF Kernel  Sigmoid Kernel\n",
       "292     1.0            1.0                1.0         1.0             1.0\n",
       "152     1.0            1.0                1.0         1.0             1.0\n",
       "315     1.0            1.0                1.0         1.0             1.0\n",
       "254     1.0            1.0                1.0         1.0             1.0\n",
       "249     1.0            1.0                1.0         1.0             1.0\n",
       "224     1.0            1.0                1.0         1.0             1.0\n",
       "226     1.0            1.0                1.0         1.0             1.0\n",
       "203     1.0            1.0                1.0         1.0             1.0\n",
       "432     1.0            1.0                1.0         1.0             1.0\n",
       "37      1.0            1.0                1.0         1.0             1.0\n",
       "44      1.0            1.0                1.0         1.0             1.0\n",
       "465     1.0            1.0                1.0         1.0             1.0\n",
       "148     1.0            1.0                1.0         1.0             1.0\n",
       "445     1.0            1.0                1.0         1.0             1.0\n",
       "54      1.0            1.0                1.0         1.0             1.0"
      ]
     },
     "execution_count": 40,
     "metadata": {},
     "output_type": "execute_result"
    }
   ],
   "source": [
    "final_Output_Difference = pd.DataFrame({'Actual':y_test,'Linear Kernel':y_Predict_Linear,'Polynomial Kernel':y_Predict_Polynomial,'RBF Kernel':y_Predict_Rbf,'Sigmoid Kernel':y_Predict_Sigmoid})\n",
    "final_Output_Difference.head(15)"
   ]
  },
  {
   "cell_type": "markdown",
   "id": "5a27a424",
   "metadata": {},
   "source": [
    "### Printing the accuracy score"
   ]
  },
  {
   "cell_type": "code",
   "execution_count": 41,
   "id": "b248400b",
   "metadata": {},
   "outputs": [
    {
     "name": "stdout",
     "output_type": "stream",
     "text": [
      "Accuracy Score for Linear Kernel =  0.96\n",
      "Accuracy Score for Polynomial Kernel =  0.9466666666666667\n",
      "Accuracy Score for RBF Kernel =  0.9466666666666667\n",
      "Accuracy Score for Sigmoid Kernel =  0.9466666666666667\n",
      "   Linear Kernel  Polynomial Kernel  RBF Kernel  Sigmoid Kernel\n",
      "0           0.96           0.946667    0.946667        0.946667\n"
     ]
    }
   ],
   "source": [
    "from sklearn.metrics import accuracy_score\n",
    "accuracyScore = pd.DataFrame({'Linear Kernel':accuracy_score(y_test,y_Predict_Linear),'Polynomial Kernel':accuracy_score(y_test,y_Predict_Polynomial),'RBF Kernel':accuracy_score(y_test,y_Predict_Rbf),'Sigmoid Kernel':accuracy_score(y_test,y_Predict_Sigmoid)},index=[0])\n",
    "print(\"Accuracy Score for Linear Kernel = \",accuracy_score(y_test,y_Predict_Linear))\n",
    "print(\"Accuracy Score for Polynomial Kernel = \",accuracy_score(y_test,y_Predict_Polynomial))\n",
    "print(\"Accuracy Score for RBF Kernel = \",accuracy_score(y_test,y_Predict_Rbf))\n",
    "print(\"Accuracy Score for Sigmoid Kernel = \",accuracy_score(y_test,y_Predict_Sigmoid))\n",
    "print(accuracyScore)"
   ]
  },
  {
   "cell_type": "code",
   "execution_count": 42,
   "id": "f737a3d9",
   "metadata": {},
   "outputs": [
    {
     "data": {
      "text/plain": [
       "Text(0.5, 1.0, 'Accuracy')"
      ]
     },
     "execution_count": 42,
     "metadata": {},
     "output_type": "execute_result"
    },
    {
     "data": {
      "image/png": "[encoded data removed]",
      "text/plain": [
       "<Figure size 720x360 with 1 Axes>"
      ]
     },
     "metadata": {
      "needs_background": "light"
     },
     "output_type": "display_data"
    }
   ],
   "source": [
    "accuracyScore.plot(kind='bar',figsize=(10,5))\n",
    "plt.xlabel('Kernels')\n",
    "plt.ylabel('Accuracy Score')\n",
    "plt.title('Accuracy')"
   ]
  },
  {
   "cell_type": "markdown",
   "id": "d3bff503",
   "metadata": {},
   "source": [
    "### Calculating the confusion matrix for each algorithm"
   ]
  },
  {
   "cell_type": "code",
   "execution_count": 43,
   "id": "6f9e159a",
   "metadata": {},
   "outputs": [],
   "source": [
    "from sklearn.metrics import confusion_matrix\n",
    "matrix_Of_Linear = confusion_matrix(y_test,y_Predict_Linear)\n",
    "matrix_Of_Polynomial = confusion_matrix(y_test,y_Predict_Polynomial)\n",
    "matrix_Of_Rbf = confusion_matrix(y_test,y_Predict_Rbf)\n",
    "matrix_Of_Sigmoid = confusion_matrix(y_test,y_Predict_Sigmoid)"
   ]
  },
  {
   "cell_type": "code",
   "execution_count": 44,
   "id": "0faf4340",
   "metadata": {},
   "outputs": [
    {
     "name": "stdout",
     "output_type": "stream",
     "text": [
      "Linear matrix\n",
      " [[ 1  3]\n",
      " [ 0 71]]\n",
      "Polynomial matrix\n",
      " [[ 0  4]\n",
      " [ 0 71]]\n",
      "RBF matrix\n",
      " [[ 0  4]\n",
      " [ 0 71]]\n",
      "Sigmoid matrix\n",
      " [[ 0  4]\n",
      " [ 0 71]]\n"
     ]
    }
   ],
   "source": [
    "print(\"Linear matrix\\n\",matrix_Of_Linear)\n",
    "print(\"Polynomial matrix\\n\",matrix_Of_Polynomial)\n",
    "print(\"RBF matrix\\n\",matrix_Of_Rbf)\n",
    "print(\"Sigmoid matrix\\n\",matrix_Of_Sigmoid)"
   ]
  },
  {
   "cell_type": "code",
   "execution_count": 45,
   "id": "2da43afc",
   "metadata": {},
   "outputs": [
    {
     "name": "stdout",
     "output_type": "stream",
     "text": [
      "Linear Kernel\n",
      " AxesSubplot(0.125,0.125;0.62x0.755)\n"
     ]
    },
    {
     "data": {
      "image/png": "[encoded data removed]",
      "text/plain": [
       "<Figure size 432x288 with 2 Axes>"
      ]
     },
     "metadata": {
      "needs_background": "light"
     },
     "output_type": "display_data"
    }
   ],
   "source": [
    "print(\"Linear Kernel\\n\",sns.heatmap(matrix_Of_Linear))"
   ]
  },
  {
   "cell_type": "code",
   "execution_count": 48,
   "id": "101af4f3",
   "metadata": {},
   "outputs": [
    {
     "name": "stdout",
     "output_type": "stream",
     "text": [
      "Polynomial Kernel\n",
      " AxesSubplot(0.125,0.125;0.62x0.755)\n"
     ]
    },
    {
     "data": {
      "image/png": "[encoded data removed]",
      "text/plain": [
       "<Figure size 432x288 with 2 Axes>"
      ]
     },
     "metadata": {
      "needs_background": "light"
     },
     "output_type": "display_data"
    }
   ],
   "source": [
    "print(\"Polynomial Kernel\\n\",sns.heatmap(matrix_Of_Polynomial))"
   ]
  },
  {
   "cell_type": "code",
   "execution_count": 46,
   "id": "eaf7e43f",
   "metadata": {},
   "outputs": [
    {
     "name": "stdout",
     "output_type": "stream",
     "text": [
      "Rbf Kernel\n",
      " AxesSubplot(0.125,0.125;0.62x0.755)\n"
     ]
    },
    {
     "data": {
      "image/png": "[encoded data removed]",
      "text/plain": [
       "<Figure size 432x288 with 2 Axes>"
      ]
     },
     "metadata": {
      "needs_background": "light"
     },
     "output_type": "display_data"
    }
   ],
   "source": [
    "print(\"Rbf Kernel\\n\",sns.heatmap(matrix_Of_Rbf))"
   ]
  },
  {
   "cell_type": "code",
   "execution_count": 47,
   "id": "c36e348f",
   "metadata": {},
   "outputs": [
    {
     "name": "stdout",
     "output_type": "stream",
     "text": [
      "Sigmoid Kernel\n",
      " AxesSubplot(0.125,0.125;0.62x0.755)\n"
     ]
    },
    {
     "data": {
      "image/png": "[encoded data removed]",
      "text/plain": [
       "<Figure size 432x288 with 2 Axes>"
      ]
     },
     "metadata": {
      "needs_background": "light"
     },
     "output_type": "display_data"
    }
   ],
   "source": [
    "print(\"Sigmoid Kernel\\n\",sns.heatmap(matrix_Of_Sigmoid))"
   ]
  }
 ],
 "metadata": {
  "kernelspec": {
   "display_name": "Python 3 (ipykernel)",
   "language": "python",
   "name": "python3"
  },
  "language_info": {
   "codemirror_mode": {
    "name": "ipython",
    "version": 3
   },
   "file_extension": ".py",
   "mimetype": "text/x-python",
   "name": "python",
   "nbconvert_exporter": "python",
   "pygments_lexer": "ipython3",
   "version": "3.10.0"
  }
 },
 "nbformat": 4,
 "nbformat_minor": 5
}
